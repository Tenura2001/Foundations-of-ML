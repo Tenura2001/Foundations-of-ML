{
 "cells": [
  {
   "cell_type": "code",
   "execution_count": 1,
   "id": "6012f05b",
   "metadata": {},
   "outputs": [],
   "source": [
    "import numpy as np\n",
    "import pandas as pd\n",
    "import matplotlib.pyplot as plt"
   ]
  },
  {
   "cell_type": "code",
   "execution_count": 2,
   "id": "7a6ca062",
   "metadata": {},
   "outputs": [
    {
     "data": {
      "text/html": [
       "<div>\n",
       "<style scoped>\n",
       "    .dataframe tbody tr th:only-of-type {\n",
       "        vertical-align: middle;\n",
       "    }\n",
       "\n",
       "    .dataframe tbody tr th {\n",
       "        vertical-align: top;\n",
       "    }\n",
       "\n",
       "    .dataframe thead th {\n",
       "        text-align: right;\n",
       "    }\n",
       "</style>\n",
       "<table border=\"1\" class=\"dataframe\">\n",
       "  <thead>\n",
       "    <tr style=\"text-align: right;\">\n",
       "      <th></th>\n",
       "      <th>MemberName</th>\n",
       "      <th>EducationLevel</th>\n",
       "      <th>Attendance</th>\n",
       "      <th>TotalHours</th>\n",
       "      <th>AssignmentsCompleted</th>\n",
       "      <th>HackathonParticipation</th>\n",
       "      <th>GitHubScore</th>\n",
       "      <th>PeerReviewScore</th>\n",
       "      <th>CourseName</th>\n",
       "      <th>CapstoneScore</th>\n",
       "    </tr>\n",
       "  </thead>\n",
       "  <tbody>\n",
       "    <tr>\n",
       "      <th>0</th>\n",
       "      <td>Theekshana Rathnayake</td>\n",
       "      <td>3</td>\n",
       "      <td>79.9</td>\n",
       "      <td>43.7</td>\n",
       "      <td>2</td>\n",
       "      <td>0</td>\n",
       "      <td>62.8</td>\n",
       "      <td>5.0</td>\n",
       "      <td>Foundations of ML</td>\n",
       "      <td>45.3</td>\n",
       "    </tr>\n",
       "    <tr>\n",
       "      <th>1</th>\n",
       "      <td>Mayura Sandakalum Sellapperuma</td>\n",
       "      <td>2</td>\n",
       "      <td>76.8</td>\n",
       "      <td>95.6</td>\n",
       "      <td>6</td>\n",
       "      <td>0</td>\n",
       "      <td>87.4</td>\n",
       "      <td>2.7</td>\n",
       "      <td>Foundations of ML</td>\n",
       "      <td>78.8</td>\n",
       "    </tr>\n",
       "    <tr>\n",
       "      <th>2</th>\n",
       "      <td>Amila Narangoda</td>\n",
       "      <td>3</td>\n",
       "      <td>96.6</td>\n",
       "      <td>75.9</td>\n",
       "      <td>8</td>\n",
       "      <td>0</td>\n",
       "      <td>98.4</td>\n",
       "      <td>2.8</td>\n",
       "      <td>Foundations of ML</td>\n",
       "      <td>65.4</td>\n",
       "    </tr>\n",
       "    <tr>\n",
       "      <th>3</th>\n",
       "      <td>Nisal Gamage</td>\n",
       "      <td>1</td>\n",
       "      <td>74.5</td>\n",
       "      <td>63.9</td>\n",
       "      <td>7</td>\n",
       "      <td>0</td>\n",
       "      <td>76.8</td>\n",
       "      <td>1.7</td>\n",
       "      <td>Production-Ready ML Systems</td>\n",
       "      <td>100.0</td>\n",
       "    </tr>\n",
       "    <tr>\n",
       "      <th>4</th>\n",
       "      <td>Tharusha Vihanga</td>\n",
       "      <td>2</td>\n",
       "      <td>83.2</td>\n",
       "      <td>24.0</td>\n",
       "      <td>6</td>\n",
       "      <td>0</td>\n",
       "      <td>41.8</td>\n",
       "      <td>4.2</td>\n",
       "      <td>Foundations of ML</td>\n",
       "      <td>40.1</td>\n",
       "    </tr>\n",
       "  </tbody>\n",
       "</table>\n",
       "</div>"
      ],
      "text/plain": [
       "                       MemberName  EducationLevel  Attendance  TotalHours  \\\n",
       "0           Theekshana Rathnayake               3        79.9        43.7   \n",
       "1  Mayura Sandakalum Sellapperuma               2        76.8        95.6   \n",
       "2                 Amila Narangoda               3        96.6        75.9   \n",
       "3                    Nisal Gamage               1        74.5        63.9   \n",
       "4                Tharusha Vihanga               2        83.2        24.0   \n",
       "\n",
       "   AssignmentsCompleted  HackathonParticipation  GitHubScore  PeerReviewScore  \\\n",
       "0                     2                       0         62.8              5.0   \n",
       "1                     6                       0         87.4              2.7   \n",
       "2                     8                       0         98.4              2.8   \n",
       "3                     7                       0         76.8              1.7   \n",
       "4                     6                       0         41.8              4.2   \n",
       "\n",
       "                    CourseName  CapstoneScore  \n",
       "0            Foundations of ML           45.3  \n",
       "1            Foundations of ML           78.8  \n",
       "2            Foundations of ML           65.4  \n",
       "3  Production-Ready ML Systems          100.0  \n",
       "4            Foundations of ML           40.1  "
      ]
     },
     "execution_count": 2,
     "metadata": {},
     "output_type": "execute_result"
    }
   ],
   "source": [
    "df = pd.read_csv('scores.csv')\n",
    "df.head(5)"
   ]
  },
  {
   "cell_type": "code",
   "execution_count": 3,
   "id": "0493b7dc",
   "metadata": {},
   "outputs": [
    {
     "data": {
      "text/html": [
       "<div>\n",
       "<style scoped>\n",
       "    .dataframe tbody tr th:only-of-type {\n",
       "        vertical-align: middle;\n",
       "    }\n",
       "\n",
       "    .dataframe tbody tr th {\n",
       "        vertical-align: top;\n",
       "    }\n",
       "\n",
       "    .dataframe thead th {\n",
       "        text-align: right;\n",
       "    }\n",
       "</style>\n",
       "<table border=\"1\" class=\"dataframe\">\n",
       "  <thead>\n",
       "    <tr style=\"text-align: right;\">\n",
       "      <th></th>\n",
       "      <th>MemberName</th>\n",
       "      <th>EducationLevel</th>\n",
       "      <th>Attendance</th>\n",
       "      <th>TotalHours</th>\n",
       "      <th>AssignmentsCompleted</th>\n",
       "      <th>HackathonParticipation</th>\n",
       "      <th>GitHubScore</th>\n",
       "      <th>PeerReviewScore</th>\n",
       "      <th>CourseName</th>\n",
       "      <th>CapstoneScore</th>\n",
       "    </tr>\n",
       "  </thead>\n",
       "  <tbody>\n",
       "    <tr>\n",
       "      <th>0</th>\n",
       "      <td>Theekshana Rathnayake</td>\n",
       "      <td>3</td>\n",
       "      <td>79.9</td>\n",
       "      <td>43.7</td>\n",
       "      <td>2</td>\n",
       "      <td>0</td>\n",
       "      <td>62.8</td>\n",
       "      <td>5.0</td>\n",
       "      <td>Foundations of ML</td>\n",
       "      <td>45.3</td>\n",
       "    </tr>\n",
       "    <tr>\n",
       "      <th>1</th>\n",
       "      <td>Mayura Sandakalum Sellapperuma</td>\n",
       "      <td>2</td>\n",
       "      <td>76.8</td>\n",
       "      <td>95.6</td>\n",
       "      <td>6</td>\n",
       "      <td>0</td>\n",
       "      <td>87.4</td>\n",
       "      <td>2.7</td>\n",
       "      <td>Foundations of ML</td>\n",
       "      <td>78.8</td>\n",
       "    </tr>\n",
       "    <tr>\n",
       "      <th>2</th>\n",
       "      <td>Amila Narangoda</td>\n",
       "      <td>3</td>\n",
       "      <td>96.6</td>\n",
       "      <td>75.9</td>\n",
       "      <td>8</td>\n",
       "      <td>0</td>\n",
       "      <td>98.4</td>\n",
       "      <td>2.8</td>\n",
       "      <td>Foundations of ML</td>\n",
       "      <td>65.4</td>\n",
       "    </tr>\n",
       "    <tr>\n",
       "      <th>4</th>\n",
       "      <td>Tharusha Vihanga</td>\n",
       "      <td>2</td>\n",
       "      <td>83.2</td>\n",
       "      <td>24.0</td>\n",
       "      <td>6</td>\n",
       "      <td>0</td>\n",
       "      <td>41.8</td>\n",
       "      <td>4.2</td>\n",
       "      <td>Foundations of ML</td>\n",
       "      <td>40.1</td>\n",
       "    </tr>\n",
       "    <tr>\n",
       "      <th>7</th>\n",
       "      <td>Chamath Perera</td>\n",
       "      <td>3</td>\n",
       "      <td>86.5</td>\n",
       "      <td>88.0</td>\n",
       "      <td>5</td>\n",
       "      <td>0</td>\n",
       "      <td>23.9</td>\n",
       "      <td>1.3</td>\n",
       "      <td>Foundations of ML</td>\n",
       "      <td>68.2</td>\n",
       "    </tr>\n",
       "  </tbody>\n",
       "</table>\n",
       "</div>"
      ],
      "text/plain": [
       "                       MemberName  EducationLevel  Attendance  TotalHours  \\\n",
       "0           Theekshana Rathnayake               3        79.9        43.7   \n",
       "1  Mayura Sandakalum Sellapperuma               2        76.8        95.6   \n",
       "2                 Amila Narangoda               3        96.6        75.9   \n",
       "4                Tharusha Vihanga               2        83.2        24.0   \n",
       "7                  Chamath Perera               3        86.5        88.0   \n",
       "\n",
       "   AssignmentsCompleted  HackathonParticipation  GitHubScore  PeerReviewScore  \\\n",
       "0                     2                       0         62.8              5.0   \n",
       "1                     6                       0         87.4              2.7   \n",
       "2                     8                       0         98.4              2.8   \n",
       "4                     6                       0         41.8              4.2   \n",
       "7                     5                       0         23.9              1.3   \n",
       "\n",
       "          CourseName  CapstoneScore  \n",
       "0  Foundations of ML           45.3  \n",
       "1  Foundations of ML           78.8  \n",
       "2  Foundations of ML           65.4  \n",
       "4  Foundations of ML           40.1  \n",
       "7  Foundations of ML           68.2  "
      ]
     },
     "execution_count": 3,
     "metadata": {},
     "output_type": "execute_result"
    }
   ],
   "source": [
    "df = df[df['CourseName'] == 'Foundations of ML']\n",
    "df.head(5)"
   ]
  },
  {
   "cell_type": "code",
   "execution_count": 13,
   "id": "3ed1ab28",
   "metadata": {},
   "outputs": [],
   "source": [
    "X = df['TotalHours'].values.reshape(-1, 1)\n",
    "Y = df['CapstoneScore'].values"
   ]
  },
  {
   "cell_type": "code",
   "execution_count": 14,
   "id": "94ca97c3",
   "metadata": {},
   "outputs": [
    {
     "data": {
      "image/png": "[encoded data removed]",
      "text/plain": [
       "<Figure size 1000x600 with 1 Axes>"
      ]
     },
     "metadata": {},
     "output_type": "display_data"
    }
   ],
   "source": [
    "plt.figure(figsize=(10,6))\n",
    "plt.scatter(X, Y, alpha=0.7 , color='blue', s=50)\n",
    "plt.xlabel('TotalHours')\n",
    "plt.ylabel('CapstoneScore')\n",
    "plt.title('TotalHours vs CapstoneScore')\n",
    "plt.show()"
   ]
  },
  {
   "cell_type": "code",
   "execution_count": 52,
   "id": "04e96aa9",
   "metadata": {},
   "outputs": [],
   "source": [
    "\"\"\" \n",
    "X : Input feature (TotalHours)\n",
    "Y : Target variable (CapstoneScore)\n",
    "\n",
    "X : (m,n)\n",
    "Y : (m,1)\n",
    "beta : (beta0 , beta1)\n",
    "\n",
    "X.dot(beta) = beta0 + beta1*X1 + beta2*X2 + ... + betan*Xn\n",
    "\"\"\"\n",
    "\n",
    "def compute_cost(X, Y, beta):\n",
    "    m = len(Y)\n",
    "    Y_pred = X.dot(beta)\n",
    "    cost = (1/(2*m)) * np.sum((Y_pred - Y)**2)\n",
    "    return cost\n",
    "\n",
    "def gradient_descent(X, Y, beta, learning_rate, iterations):\n",
    "    m = len(Y)\n",
    "    cost_history = np.zeros(iterations)\n",
    "\n",
    "    for it in range(iterations):\n",
    "        Y_pred = X.dot(beta)\n",
    "        beta = beta - (1/m) * learning_rate * (X.T.dot((Y_pred - Y)))\n",
    "        cost_history[it] = compute_cost(X, Y, beta)\n",
    "\n",
    "    return beta, cost_history\n"
   ]
  },
  {
   "cell_type": "code",
   "execution_count": 53,
   "id": "d33c174d",
   "metadata": {},
   "outputs": [
    {
     "name": "stdout",
     "output_type": "stream",
     "text": [
      "[-0.84222928  1.47175834]\n"
     ]
    }
   ],
   "source": [
    "beta = np.random.randn(2)\n",
    "print(beta)"
   ]
  },
  {
   "cell_type": "code",
   "execution_count": 54,
   "id": "7aea816f",
   "metadata": {},
   "outputs": [],
   "source": [
    "learning_rate = 0.000001\n",
    "iterations = 100000"
   ]
  },
  {
   "cell_type": "code",
   "execution_count": 55,
   "id": "be951b07",
   "metadata": {},
   "outputs": [
    {
     "data": {
      "text/plain": [
       "array([[ 1. , 43.7],\n",
       "       [ 1. , 95.6],\n",
       "       [ 1. , 75.9],\n",
       "       [ 1. , 24. ],\n",
       "       [ 1. , 88. ],\n",
       "       [ 1. , 97.3],\n",
       "       [ 1. , 26.5],\n",
       "       [ 1. , 57.2],\n",
       "       [ 1. , 48.9],\n",
       "       [ 1. , 36.2],\n",
       "       [ 1. , 65.1],\n",
       "       [ 1. , 22.6],\n",
       "       [ 1. , 36.3],\n",
       "       [ 1. , 51. ],\n",
       "       [ 1. , 56.3],\n",
       "       [ 1. , 15.9],\n",
       "       [ 1. , 96.9],\n",
       "       [ 1. , 18.8],\n",
       "       [ 1. , 54.6],\n",
       "       [ 1. , 91.8],\n",
       "       [ 1. , 69.6],\n",
       "       [ 1. , 38.1],\n",
       "       [ 1. , 26.6],\n",
       "       [ 1. , 97.3],\n",
       "       [ 1. , 94.6],\n",
       "       [ 1. , 27.6],\n",
       "       [ 1. , 39.3],\n",
       "       [ 1. , 34.4],\n",
       "       [ 1. , 42.1],\n",
       "       [ 1. , 35.3],\n",
       "       [ 1. , 98.8],\n",
       "       [ 1. , 27.9],\n",
       "       [ 1. , 10.5],\n",
       "       [ 1. , 73.6],\n",
       "       [ 1. , 75.6],\n",
       "       [ 1. , 79.4],\n",
       "       [ 1. , 16.7],\n",
       "       [ 1. , 39.8],\n",
       "       [ 1. , 15.7],\n",
       "       [ 1. , 67.4],\n",
       "       [ 1. , 74.2],\n",
       "       [ 1. , 78.5],\n",
       "       [ 1. , 60.5],\n",
       "       [ 1. , 79.4],\n",
       "       [ 1. , 54.4],\n",
       "       [ 1. , 57. ],\n",
       "       [ 1. , 48.5],\n",
       "       [ 1. , 12.3],\n",
       "       [ 1. , 67.3],\n",
       "       [ 1. , 38.3],\n",
       "       [ 1. , 91.7],\n",
       "       [ 1. , 32.4],\n",
       "       [ 1. , 46.9],\n",
       "       [ 1. , 93.7],\n",
       "       [ 1. , 67. ],\n",
       "       [ 1. , 88.4],\n",
       "       [ 1. , 90.3],\n",
       "       [ 1. , 58.5],\n",
       "       [ 1. , 82.7],\n",
       "       [ 1. , 83.6],\n",
       "       [ 1. , 10.6],\n",
       "       [ 1. , 56. ],\n",
       "       [ 1. , 47.6],\n",
       "       [ 1. , 94.9],\n",
       "       [ 1. , 39.1],\n",
       "       [ 1. , 56.7],\n",
       "       [ 1. , 73.3],\n",
       "       [ 1. , 42.7],\n",
       "       [ 1. , 97.5],\n",
       "       [ 1. , 35.6],\n",
       "       [ 1. , 13.3],\n",
       "       [ 1. , 55.2]])"
      ]
     },
     "execution_count": 55,
     "metadata": {},
     "output_type": "execute_result"
    }
   ],
   "source": [
    "X_with_bias = np.column_stack([np.ones((len(X))),X])\n",
    "X_with_bias"
   ]
  },
  {
   "cell_type": "code",
   "execution_count": 56,
   "id": "09049cdd",
   "metadata": {},
   "outputs": [
    {
     "name": "stdout",
     "output_type": "stream",
     "text": [
      "Optimized beta: [-0.46025019  0.92124066]\n"
     ]
    }
   ],
   "source": [
    "beta, cost_history = gradient_descent(X_with_bias, Y, beta, learning_rate, iterations)\n",
    "print(\"Optimized beta:\", beta)"
   ]
  },
  {
   "cell_type": "code",
   "execution_count": 57,
   "id": "9978e779",
   "metadata": {},
   "outputs": [
    {
     "data": {
      "text/plain": [
       "array([ 9.21277674, 10.03444896, 10.85612119, 11.67779341, 12.49946564,\n",
       "       13.32113786, 14.14281009, 14.96448231, 15.78615454, 16.60782676,\n",
       "       17.42949899, 18.25117121, 19.07284344, 19.89451566, 20.71618789,\n",
       "       21.53786011, 22.35953234, 23.18120456, 24.00287679, 24.82454901,\n",
       "       25.64622124, 26.46789346, 27.28956569, 28.11123791, 28.93291014,\n",
       "       29.75458236, 30.57625459, 31.39792681, 32.21959904, 33.04127126,\n",
       "       33.86294349, 34.68461571, 35.50628794, 36.32796016, 37.14963239,\n",
       "       37.97130461, 38.79297684, 39.61464906, 40.43632129, 41.25799351,\n",
       "       42.07966574, 42.90133796, 43.72301019, 44.54468241, 45.36635464,\n",
       "       46.18802686, 47.00969909, 47.83137131, 48.65304354, 49.47471576,\n",
       "       50.29638799, 51.11806021, 51.93973244, 52.76140466, 53.58307689,\n",
       "       54.40474911, 55.22642133, 56.04809356, 56.86976578, 57.69143801,\n",
       "       58.51311023, 59.33478246, 60.15645468, 60.97812691, 61.79979913,\n",
       "       62.62147136, 63.44314358, 64.26481581, 65.08648803, 65.90816026,\n",
       "       66.72983248, 67.55150471, 68.37317693, 69.19484916, 70.01652138,\n",
       "       70.83819361, 71.65986583, 72.48153806, 73.30321028, 74.12488251,\n",
       "       74.94655473, 75.76822696, 76.58989918, 77.41157141, 78.23324363,\n",
       "       79.05491586, 79.87658808, 80.69826031, 81.51993253, 82.34160476,\n",
       "       83.16327698, 83.98494921, 84.80662143, 85.62829366, 86.44996588,\n",
       "       87.27163811, 88.09331033, 88.91498256, 89.73665478, 90.55832701])"
      ]
     },
     "execution_count": 57,
     "metadata": {},
     "output_type": "execute_result"
    }
   ],
   "source": [
    "x_min, x_max = float(np.min(X)), float(np.max(X))\n",
    "x_interval = np.linspace(x_min , x_max , 100)\n",
    "x_interval_with_bias = np.column_stack([np.ones((len(x_interval))), x_interval])\n",
    "y_hat_interval = x_interval_with_bias.dot(beta)\n",
    "y_hat_interval"
   ]
  },
  {
   "cell_type": "code",
   "execution_count": 58,
   "id": "7f98f23e",
   "metadata": {},
   "outputs": [
    {
     "data": {
      "image/png": "[encoded data removed]",
      "text/plain": [
       "<Figure size 1000x600 with 1 Axes>"
      ]
     },
     "metadata": {},
     "output_type": "display_data"
    }
   ],
   "source": [
    "plt.figure(figsize=(10,6))\n",
    "plt.scatter(X, Y, alpha=0.7 , color='blue', s=50)\n",
    "plt.plot(x_interval, y_hat_interval, color='red', linewidth=2)\n",
    "plt.xlabel('TotalHours')\n",
    "plt.ylabel('CapstoneScore')\n",
    "plt.title('TotalHours vs CapstoneScore')\n",
    "plt.show()"
   ]
  },
  {
   "cell_type": "code",
   "execution_count": null,
   "id": "54990710",
   "metadata": {},
   "outputs": [],
   "source": []
  }
 ],
 "metadata": {
  "kernelspec": {
   "display_name": "base",
   "language": "python",
   "name": "python3"
  },
  "language_info": {
   "codemirror_mode": {
    "name": "ipython",
    "version": 3
   },
   "file_extension": ".py",
   "mimetype": "text/x-python",
   "name": "python",
   "nbconvert_exporter": "python",
   "pygments_lexer": "ipython3",
   "version": "3.13.5"
  }
 },
 "nbformat": 4,
 "nbformat_minor": 5
}
